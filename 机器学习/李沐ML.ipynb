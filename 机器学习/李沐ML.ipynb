{
 "cells": [
  {
   "cell_type": "raw",
   "id": "e5ec7c42-6497-4772-8695-e678767ffcc6",
   "metadata": {},
   "source": [
    "N维数组样例\n",
    "1.【标量】一个类别（一个数字  1.0）\n",
    "2.【向量】 一个特征向量 （【1.0,2.0,3.0,4.0】）\n",
    "3.【矩阵】 一个样本---特征矩阵\n",
    "三维数组   RGB图片\n",
    "四维数组   一个RGB图片批量\n",
    "五维数组   一个视频批量\n",
    "\n",
    "\n",
    "创建数组\n",
    "1.形状（3*4）\n",
    "2.数据类型\n",
    "3.每个元素的值"
   ]
  },
  {
   "cell_type": "code",
   "execution_count": 72,
   "id": "96dbddfc-7a9e-4c14-9e77-69b678fb8dd6",
   "metadata": {},
   "outputs": [
    {
     "name": "stdout",
     "output_type": "stream",
     "text": [
      "Requirement already satisfied: torch in d:\\3.12.10\\lib\\site-packages (2.7.0)\n",
      "Requirement already satisfied: filelock in d:\\3.12.10\\lib\\site-packages (from torch) (3.18.0)\n",
      "Requirement already satisfied: typing-extensions>=4.10.0 in d:\\3.12.10\\lib\\site-packages (from torch) (4.13.2)\n",
      "Requirement already satisfied: sympy>=1.13.3 in d:\\3.12.10\\lib\\site-packages (from torch) (1.14.0)\n",
      "Requirement already satisfied: networkx in d:\\3.12.10\\lib\\site-packages (from torch) (3.4.2)\n",
      "Requirement already satisfied: jinja2 in d:\\3.12.10\\lib\\site-packages (from torch) (3.1.6)\n",
      "Requirement already satisfied: fsspec in d:\\3.12.10\\lib\\site-packages (from torch) (2025.5.1)\n",
      "Requirement already satisfied: setuptools in d:\\3.12.10\\lib\\site-packages (from torch) (80.7.1)\n",
      "Requirement already satisfied: mpmath<1.4,>=1.1.0 in d:\\3.12.10\\lib\\site-packages (from sympy>=1.13.3->torch) (1.3.0)\n",
      "Requirement already satisfied: MarkupSafe>=2.0 in d:\\3.12.10\\lib\\site-packages (from jinja2->torch) (3.0.2)\n",
      "Note: you may need to restart the kernel to use updated packages.\n"
     ]
    }
   ],
   "source": [
    "pip install torch"
   ]
  },
  {
   "cell_type": "code",
   "execution_count": 4,
   "id": "60d88d32-3382-4fd4-84b7-51821c05ed0d",
   "metadata": {},
   "outputs": [],
   "source": [
    "import torch\n"
   ]
  },
  {
   "cell_type": "code",
   "execution_count": 5,
   "id": "00acb39e-726f-4566-b349-fada9c989796",
   "metadata": {},
   "outputs": [
    {
     "data": {
      "text/plain": [
       "tensor([[2, 1, 4, 3],\n",
       "        [1, 2, 3, 4],\n",
       "        [1, 4, 3, 2]])"
      ]
     },
     "execution_count": 5,
     "metadata": {},
     "output_type": "execute_result"
    }
   ],
   "source": [
    "x=torch.arange(12)\n",
    "x\n",
    "x.shape\n",
    "x.reshape(-1,4)\n",
    "x.reshape(4,-1)\n",
    "x.size()\n",
    "torch.tensor([[2,1,4,3],[1,2,3,4],[1,4,3,2]])"
   ]
  },
  {
   "cell_type": "code",
   "execution_count": 6,
   "id": "435bc650-53e4-4769-b1b4-4fd08762e1ce",
   "metadata": {},
   "outputs": [
    {
     "data": {
      "text/plain": [
       "(tensor([ 3.,  4.,  5., 10.]),\n",
       " tensor([-1.,  0.,  1.,  6.]),\n",
       " tensor([ 2.,  4.,  6., 16.]),\n",
       " tensor([0.5000, 1.0000, 1.5000, 4.0000]),\n",
       " tensor([ 1.,  4.,  9., 64.]))"
      ]
     },
     "execution_count": 6,
     "metadata": {},
     "output_type": "execute_result"
    }
   ],
   "source": [
    "x=torch.tensor([1.0,2,3,8])\n",
    "y=torch.tensor([2,2,2,2])\n",
    "x + y,x - y,x*y,x/y,x**y"
   ]
  },
  {
   "cell_type": "code",
   "execution_count": 7,
   "id": "7b3b622e-5aa8-4795-92db-ed4011a69a45",
   "metadata": {},
   "outputs": [
    {
     "data": {
      "text/plain": [
       "tensor([2.7183e+00, 7.3891e+00, 2.0086e+01, 2.9810e+03])"
      ]
     },
     "execution_count": 7,
     "metadata": {},
     "output_type": "execute_result"
    }
   ],
   "source": [
    "torch.exp(x)"
   ]
  },
  {
   "cell_type": "code",
   "execution_count": 8,
   "id": "22b72d26-81a3-4530-ba1b-ef49123c42cb",
   "metadata": {},
   "outputs": [
    {
     "data": {
      "text/plain": [
       "tensor([[ 0.,  1.,  2.,  3.],\n",
       "        [ 4.,  5.,  6.,  7.],\n",
       "        [ 8.,  9., 10., 11.]])"
      ]
     },
     "execution_count": 8,
     "metadata": {},
     "output_type": "execute_result"
    }
   ],
   "source": [
    "x=torch.arange(12,dtype=torch.float32).reshape((-1,4))\n",
    "x\n",
    "\n"
   ]
  },
  {
   "cell_type": "code",
   "execution_count": 9,
   "id": "92006b19-4ca6-403c-aa84-c46b5062ed80",
   "metadata": {},
   "outputs": [
    {
     "data": {
      "text/plain": [
       "tensor([[2., 1., 4., 3.],\n",
       "        [1., 2., 3., 4.],\n",
       "        [4., 3., 2., 1.]])"
      ]
     },
     "execution_count": 9,
     "metadata": {},
     "output_type": "execute_result"
    }
   ],
   "source": [
    "y=torch.tensor([[2.0,1,4,3],[1,2,3,4],[4,3,2,1]])\n",
    "y"
   ]
  },
  {
   "cell_type": "raw",
   "id": "9f226074-cf7e-486c-91a4-d92ad0577330",
   "metadata": {},
   "source": [
    "dim=0 沿行，即总行数变\n",
    "dim=1 沿列，即总列数变"
   ]
  },
  {
   "cell_type": "raw",
   "id": "68609ea0-20e8-4473-b604-dcadd3571358",
   "metadata": {},
   "source": [
    "torch.cat()：连接两个张量"
   ]
  },
  {
   "cell_type": "code",
   "execution_count": 10,
   "id": "3a77091c-757c-4c47-9662-bc0207602965",
   "metadata": {},
   "outputs": [
    {
     "data": {
      "text/plain": [
       "(tensor([[ 0.,  1.,  2.,  3.],\n",
       "         [ 4.,  5.,  6.,  7.],\n",
       "         [ 8.,  9., 10., 11.],\n",
       "         [ 2.,  1.,  4.,  3.],\n",
       "         [ 1.,  2.,  3.,  4.],\n",
       "         [ 4.,  3.,  2.,  1.]]),\n",
       " tensor([[ 0.,  1.,  2.,  3.,  2.,  1.,  4.,  3.],\n",
       "         [ 4.,  5.,  6.,  7.,  1.,  2.,  3.,  4.],\n",
       "         [ 8.,  9., 10., 11.,  4.,  3.,  2.,  1.]]))"
      ]
     },
     "execution_count": 10,
     "metadata": {},
     "output_type": "execute_result"
    }
   ],
   "source": [
    "torch.cat((x,y),dim=0),torch.cat((x,y),dim=1)"
   ]
  },
  {
   "cell_type": "code",
   "execution_count": 11,
   "id": "43163abd-23cd-48db-9c7b-d7f73fb2fb59",
   "metadata": {},
   "outputs": [
    {
     "data": {
      "text/plain": [
       "tensor([[False,  True, False,  True],\n",
       "        [False, False, False, False],\n",
       "        [False, False, False, False]])"
      ]
     },
     "execution_count": 11,
     "metadata": {},
     "output_type": "execute_result"
    }
   ],
   "source": [
    "x==y"
   ]
  },
  {
   "cell_type": "code",
   "execution_count": 69,
   "id": "46ab46c4-e5cb-4b61-becd-93bdb704f56e",
   "metadata": {},
   "outputs": [
    {
     "data": {
      "text/plain": [
       "tensor([[True, True, True],\n",
       "        [True, True, True],\n",
       "        [True, True, True],\n",
       "        [True, True, True]])"
      ]
     },
     "execution_count": 69,
     "metadata": {},
     "output_type": "execute_result"
    }
   ],
   "source": [
    "# 课后习题\n",
    "x>y"
   ]
  },
  {
   "cell_type": "code",
   "execution_count": 70,
   "id": "43477553-417e-4645-94ea-f84888d9e817",
   "metadata": {},
   "outputs": [
    {
     "data": {
      "text/plain": [
       "tensor([[False, False, False],\n",
       "        [False, False, False],\n",
       "        [False, False, False],\n",
       "        [False, False, False]])"
      ]
     },
     "execution_count": 70,
     "metadata": {},
     "output_type": "execute_result"
    }
   ],
   "source": [
    "# 课后习题\n",
    "x<y"
   ]
  },
  {
   "cell_type": "code",
   "execution_count": 12,
   "id": "506d48be-59a0-4f67-958f-e7c862300d8e",
   "metadata": {},
   "outputs": [
    {
     "data": {
      "text/plain": [
       "tensor(66.)"
      ]
     },
     "execution_count": 12,
     "metadata": {},
     "output_type": "execute_result"
    }
   ],
   "source": [
    "x.sum()"
   ]
  },
  {
   "cell_type": "code",
   "execution_count": 13,
   "id": "3d67ed4b-e514-4780-b047-718a3864cb8b",
   "metadata": {},
   "outputs": [
    {
     "data": {
      "text/plain": [
       "(tensor([[0],\n",
       "         [1],\n",
       "         [2]]),\n",
       " tensor([[0, 1]]))"
      ]
     },
     "execution_count": 13,
     "metadata": {},
     "output_type": "execute_result"
    }
   ],
   "source": [
    "a=torch.arange(3).reshape((3,1))\n",
    "b=torch.arange(2).reshape((1,2))\n",
    "a,b"
   ]
  },
  {
   "cell_type": "raw",
   "id": "2a5c421c-e368-4a54-85ab-dd2690873b8d",
   "metadata": {},
   "source": [
    "广播机制：使两个不相同形状的张量通过复制具有相同形状，以便进行算数加减\n",
    "（例中将a矩阵复制列，b矩阵复制行，使两矩阵扩大为2*3的矩阵）"
   ]
  },
  {
   "cell_type": "code",
   "execution_count": 14,
   "id": "53fb1fa5-9745-4629-8d4f-f845f3404c84",
   "metadata": {},
   "outputs": [
    {
     "data": {
      "text/plain": [
       "tensor([[0, 1],\n",
       "        [1, 2],\n",
       "        [2, 3]])"
      ]
     },
     "execution_count": 14,
     "metadata": {},
     "output_type": "execute_result"
    }
   ],
   "source": [
    "a+b"
   ]
  },
  {
   "cell_type": "markdown",
   "id": "355db275-b764-4fbb-b49f-72b2bd5f8b16",
   "metadata": {},
   "source": [
    "**2.1.4 切片和索引**"
   ]
  },
  {
   "cell_type": "code",
   "execution_count": 34,
   "id": "55e65ba8-5dd7-492d-adc9-1075b9146286",
   "metadata": {},
   "outputs": [
    {
     "data": {
      "text/plain": [
       "tensor(11)"
      ]
     },
     "execution_count": 34,
     "metadata": {},
     "output_type": "execute_result"
    }
   ],
   "source": [
    "import torch\n",
    "x=torch.arange(12)\n",
    "\n",
    "x.reshape(-1,4)\n",
    "x[-1]"
   ]
  },
  {
   "cell_type": "markdown",
   "id": "3e739db7-4c2d-4e61-84c2-d9b101ddfa67",
   "metadata": {},
   "source": [
    "*左闭右开*"
   ]
  },
  {
   "cell_type": "code",
   "execution_count": 41,
   "id": "3a1066c6-dd67-45d9-a46c-1324e702da49",
   "metadata": {},
   "outputs": [
    {
     "data": {
      "text/plain": [
       "tensor([[ 0,  9,  2],\n",
       "        [ 3,  4,  5],\n",
       "        [ 6,  7,  8],\n",
       "        [ 9, 10, 11]])"
      ]
     },
     "execution_count": 41,
     "metadata": {},
     "output_type": "execute_result"
    }
   ],
   "source": [
    "x[1:2]=9\n",
    "x=x.reshape(-1,3)\n",
    "x"
   ]
  },
  {
   "cell_type": "code",
   "execution_count": 43,
   "id": "6044a3c5-96e6-4725-b9ae-7039ad3ad9a5",
   "metadata": {},
   "outputs": [
    {
     "data": {
      "text/plain": [
       "tensor([[12, 12, 12],\n",
       "        [12, 12, 12],\n",
       "        [ 6,  7,  8],\n",
       "        [ 9, 10, 11]])"
      ]
     },
     "execution_count": 43,
     "metadata": {},
     "output_type": "execute_result"
    }
   ],
   "source": [
    "x[0:2, :] = 12\n",
    "x"
   ]
  },
  {
   "cell_type": "code",
   "execution_count": 46,
   "id": "1bce1e60-d1b8-4461-b2f5-e1d7fd710619",
   "metadata": {},
   "outputs": [
    {
     "data": {
      "text/plain": [
       "False"
      ]
     },
     "execution_count": 46,
     "metadata": {},
     "output_type": "execute_result"
    }
   ],
   "source": [
    "y=y.reshape(-1,3)\n",
    "after=id(y)\n",
    "y=x+y\n",
    "id(y)==after\n"
   ]
  },
  {
   "cell_type": "markdown",
   "id": "fb878010-3122-4e1c-864f-b707339941bd",
   "metadata": {},
   "source": [
    "**使用切片索引法直接替换原数据可以节省内存**"
   ]
  },
  {
   "cell_type": "code",
   "execution_count": 60,
   "id": "9047aafb-c465-44ef-b99a-394b83935653",
   "metadata": {},
   "outputs": [
    {
     "name": "stdout",
     "output_type": "stream",
     "text": [
      "[0, 99, 4]\n"
     ]
    }
   ],
   "source": [
    "original_list = [0, 1, 2, 3, 4]\n",
    "\n",
    "# 正确做法：直接切片赋值，原地修改\n",
    "original_list[1:4] = [99]  # 直接覆盖原列表的切片区域\n",
    "print(original_list)               # 输出 [0, 99, 99, 99, 4]"
   ]
  },
  {
   "cell_type": "markdown",
   "id": "00d9c26f-2531-4979-a747-d39979a7d1f1",
   "metadata": {},
   "source": [
    "**大数量使用切片法可直接用乘**"
   ]
  },
  {
   "cell_type": "code",
   "execution_count": 61,
   "id": "ca48eb5e-7de5-436a-9ea7-d84815b520eb",
   "metadata": {},
   "outputs": [
    {
     "name": "stdout",
     "output_type": "stream",
     "text": [
      "[0, 99, 99, 99, 4]\n"
     ]
    }
   ],
   "source": [
    "original_list = [0, 1, 2, 3, 4]\n",
    "\n",
    "# 正确做法：直接切片赋值，原地修改\n",
    "original_list[1:4] = [99]*3 # 直接覆盖原列表的切片区域\n",
    "print(original_list) "
   ]
  },
  {
   "cell_type": "code",
   "execution_count": 65,
   "id": "70aa0985-2140-4afb-9dec-486df139ba78",
   "metadata": {},
   "outputs": [
    {
     "data": {
      "text/plain": [
       "True"
      ]
     },
     "execution_count": 65,
     "metadata": {},
     "output_type": "execute_result"
    }
   ],
   "source": [
    "before = id(x)\n",
    "x[:]=x+y\n",
    "id(x)==before"
   ]
  },
  {
   "cell_type": "code",
   "execution_count": 79,
   "id": "9c3ce650-d70a-42ab-af9c-6a8373323566",
   "metadata": {},
   "outputs": [],
   "source": [
    "# 课后作业\n",
    "# 创建一个三维张量\n",
    "c=torch.arange(12).reshape(2,2,3)\n",
    "d=torch.arange(12).reshape(2,1,6)\n"
   ]
  },
  {
   "cell_type": "markdown",
   "id": "6c8ef453-5c30-40a0-bc93-0feaa2f58f91",
   "metadata": {},
   "source": [
    "********数据预处理********"
   ]
  },
  {
   "cell_type": "markdown",
   "id": "93f2e62f-21b9-428b-b2ea-e7ba3c194564",
   "metadata": {},
   "source": [
    "*读取数据集*"
   ]
  },
  {
   "cell_type": "code",
   "execution_count": 1,
   "id": "6421b04f-252e-4322-b11a-0e318f565333",
   "metadata": {},
   "outputs": [],
   "source": [
    "import os\n",
    "os.makedirs(os.path.join('..','data'),exist_ok=True)\n",
    "data_file=os.path.join('..','data','house_tiny.csv')\n",
    "with open(data_file,'w') as f:\n",
    "    f.write('NumRooms,Alley,Price\\n')#列名\n",
    "    f.write('NA,pave,127500\\n')#每行表示一个数据样本\n",
    "    f.write('2,NA,106000\\n')\n",
    "    f.write('4,NA,178100\\n')\n",
    "    f.write('NA,NA,140000\\n')"
   ]
  },
  {
   "cell_type": "code",
   "execution_count": 2,
   "id": "c9718e61-af24-4b5d-b792-fe022c5540ae",
   "metadata": {},
   "outputs": [
    {
     "name": "stdout",
     "output_type": "stream",
     "text": [
      "   NumRooms Alley   Price\n",
      "0       NaN  pave  127500\n",
      "1       2.0   NaN  106000\n",
      "2       4.0   NaN  178100\n",
      "3       NaN   NaN  140000\n"
     ]
    }
   ],
   "source": [
    "import pandas as pd\n",
    "data = pd.read_csv(data_file)\n",
    "print(data)"
   ]
  },
  {
   "cell_type": "markdown",
   "id": "f854c046-d318-42d8-b947-93d1f1c55472",
   "metadata": {},
   "source": [
    "*处理缺失值*"
   ]
  },
  {
   "cell_type": "raw",
   "id": "5cbfdc20-2335-4a0a-97e4-564bc0bf0404",
   "metadata": {},
   "source": [
    "插值法：用一个替代值弥补缺失值\n",
    "删除法：直接忽略缺失值"
   ]
  },
  {
   "cell_type": "code",
   "execution_count": 10,
   "id": "c544cb9e-dbb3-4098-bb47-0005aeef95fd",
   "metadata": {},
   "outputs": [
    {
     "name": "stdout",
     "output_type": "stream",
     "text": [
      "0    3.0\n",
      "1    2.0\n",
      "2    4.0\n",
      "3    3.0\n",
      "Name: NumRooms, dtype: float64\n"
     ]
    }
   ],
   "source": [
    "# 插值法\n",
    "inputs,outputs=data.iloc[:,0],data.iloc[:,2]\n",
    "inputs=inputs.fillna(inputs.mean())\n",
    "print(inputs)"
   ]
  },
  {
   "cell_type": "code",
   "execution_count": null,
   "id": "d906eda9-c8c8-4b6d-a7c8-8be28b06dc42",
   "metadata": {},
   "outputs": [],
   "source": []
  }
 ],
 "metadata": {
  "kernelspec": {
   "display_name": "Python 3 (ipykernel)",
   "language": "python",
   "name": "python3"
  },
  "language_info": {
   "codemirror_mode": {
    "name": "ipython",
    "version": 3
   },
   "file_extension": ".py",
   "mimetype": "text/x-python",
   "name": "python",
   "nbconvert_exporter": "python",
   "pygments_lexer": "ipython3",
   "version": "3.12.10"
  }
 },
 "nbformat": 4,
 "nbformat_minor": 5
}
