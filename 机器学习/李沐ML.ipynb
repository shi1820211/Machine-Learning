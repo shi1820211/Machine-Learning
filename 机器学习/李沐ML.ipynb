{
 "cells": [
  {
   "cell_type": "raw",
   "id": "e5ec7c42-6497-4772-8695-e678767ffcc6",
   "metadata": {},
   "source": [
    "N维数组样例\n",
    "1.【标量】一个类别（一个数字  1.0）\n",
    "2.【向量】 一个特征向量 （【1.0,2.0,3.0,4.0】）\n",
    "3.【矩阵】 一个样本---特征矩阵\n",
    "三维数组   RGB图片\n",
    "四维数组   一个RGB图片批量\n",
    "五维数组   一个视频批量\n",
    "\n",
    "\n",
    "创建数组\n",
    "1.形状（3*4）\n",
    "2.数据类型\n",
    "3.每个元素的值"
   ]
  },
  {
   "cell_type": "code",
   "execution_count": null,
   "id": "96dbddfc-7a9e-4c14-9e77-69b678fb8dd6",
   "metadata": {},
   "outputs": [],
   "source": [
    "pip install torch\n"
   ]
  },
  {
   "cell_type": "code",
   "execution_count": 6,
   "id": "60d88d32-3382-4fd4-84b7-51821c05ed0d",
   "metadata": {},
   "outputs": [],
   "source": [
    "import torch\n"
   ]
  },
  {
   "cell_type": "code",
   "execution_count": 29,
   "id": "00acb39e-726f-4566-b349-fada9c989796",
   "metadata": {},
   "outputs": [
    {
     "data": {
      "text/plain": [
       "tensor([[2, 1, 4, 3],\n",
       "        [1, 2, 3, 4],\n",
       "        [1, 4, 3, 2]])"
      ]
     },
     "execution_count": 29,
     "metadata": {},
     "output_type": "execute_result"
    }
   ],
   "source": [
    "x=torch.arange(12)\n",
    "x\n",
    "x.shape\n",
    "x.reshape(-1,4)\n",
    "x.reshape(4,-1)\n",
    "x.size()\n",
    "torch.tensor([[2,1,4,3],[1,2,3,4],[1,4,3,2]])"
   ]
  },
  {
   "cell_type": "code",
   "execution_count": 27,
   "id": "435bc650-53e4-4769-b1b4-4fd08762e1ce",
   "metadata": {},
   "outputs": [
    {
     "data": {
      "text/plain": [
       "(tensor([ 3.,  4.,  5., 10.]),\n",
       " tensor([-1.,  0.,  1.,  6.]),\n",
       " tensor([ 2.,  4.,  6., 16.]),\n",
       " tensor([0.5000, 1.0000, 1.5000, 4.0000]),\n",
       " tensor([ 1.,  4.,  9., 64.]))"
      ]
     },
     "execution_count": 27,
     "metadata": {},
     "output_type": "execute_result"
    }
   ],
   "source": [
    "x=torch.tensor([1.0,2,3,8])\n",
    "y=torch.tensor([2,2,2,2])\n",
    "x + y,x - y,x*y,x/y,x**y"
   ]
  },
  {
   "cell_type": "code",
   "execution_count": 28,
   "id": "7b3b622e-5aa8-4795-92db-ed4011a69a45",
   "metadata": {},
   "outputs": [
    {
     "data": {
      "text/plain": [
       "tensor([2.7183e+00, 7.3891e+00, 2.0086e+01, 2.9810e+03])"
      ]
     },
     "execution_count": 28,
     "metadata": {},
     "output_type": "execute_result"
    }
   ],
   "source": [
    "torch.exp(x)"
   ]
  },
  {
   "cell_type": "code",
   "execution_count": 37,
   "id": "22b72d26-81a3-4530-ba1b-ef49123c42cb",
   "metadata": {},
   "outputs": [
    {
     "data": {
      "text/plain": [
       "tensor([[ 0.,  1.,  2.,  3.],\n",
       "        [ 4.,  5.,  6.,  7.],\n",
       "        [ 8.,  9., 10., 11.]])"
      ]
     },
     "execution_count": 37,
     "metadata": {},
     "output_type": "execute_result"
    }
   ],
   "source": [
    "x=torch.arange(12,dtype=torch.float32).reshape((-1,4))\n",
    "x\n",
    "\n"
   ]
  },
  {
   "cell_type": "code",
   "execution_count": 38,
   "id": "92006b19-4ca6-403c-aa84-c46b5062ed80",
   "metadata": {},
   "outputs": [
    {
     "data": {
      "text/plain": [
       "tensor([[2., 1., 4., 3.],\n",
       "        [1., 2., 3., 4.],\n",
       "        [4., 3., 2., 1.]])"
      ]
     },
     "execution_count": 38,
     "metadata": {},
     "output_type": "execute_result"
    }
   ],
   "source": [
    "y=torch.tensor([[2.0,1,4,3],[1,2,3,4],[4,3,2,1]])\n",
    "y"
   ]
  },
  {
   "cell_type": "raw",
   "id": "9f226074-cf7e-486c-91a4-d92ad0577330",
   "metadata": {},
   "source": [
    "dim=0 沿行，即总行数变\n",
    "dim=1 沿列，即总列数变"
   ]
  },
  {
   "cell_type": "code",
   "execution_count": 39,
   "id": "3a77091c-757c-4c47-9662-bc0207602965",
   "metadata": {},
   "outputs": [
    {
     "data": {
      "text/plain": [
       "(tensor([[ 0.,  1.,  2.,  3.],\n",
       "         [ 4.,  5.,  6.,  7.],\n",
       "         [ 8.,  9., 10., 11.],\n",
       "         [ 2.,  1.,  4.,  3.],\n",
       "         [ 1.,  2.,  3.,  4.],\n",
       "         [ 4.,  3.,  2.,  1.]]),\n",
       " tensor([[ 0.,  1.,  2.,  3.,  2.,  1.,  4.,  3.],\n",
       "         [ 4.,  5.,  6.,  7.,  1.,  2.,  3.,  4.],\n",
       "         [ 8.,  9., 10., 11.,  4.,  3.,  2.,  1.]]))"
      ]
     },
     "execution_count": 39,
     "metadata": {},
     "output_type": "execute_result"
    }
   ],
   "source": [
    "torch.cat((x,y),dim=0),torch.cat((x,y),dim=1)"
   ]
  },
  {
   "cell_type": "code",
   "execution_count": 40,
   "id": "43163abd-23cd-48db-9c7b-d7f73fb2fb59",
   "metadata": {},
   "outputs": [
    {
     "data": {
      "text/plain": [
       "tensor([[False,  True, False,  True],\n",
       "        [False, False, False, False],\n",
       "        [False, False, False, False]])"
      ]
     },
     "execution_count": 40,
     "metadata": {},
     "output_type": "execute_result"
    }
   ],
   "source": [
    "x==y"
   ]
  },
  {
   "cell_type": "code",
   "execution_count": 42,
   "id": "506d48be-59a0-4f67-958f-e7c862300d8e",
   "metadata": {},
   "outputs": [
    {
     "data": {
      "text/plain": [
       "tensor(66.)"
      ]
     },
     "execution_count": 42,
     "metadata": {},
     "output_type": "execute_result"
    }
   ],
   "source": [
    "x.sum()"
   ]
  },
  {
   "cell_type": "code",
   "execution_count": 47,
   "id": "3d67ed4b-e514-4780-b047-718a3864cb8b",
   "metadata": {},
   "outputs": [
    {
     "data": {
      "text/plain": [
       "(tensor([[0],\n",
       "         [1],\n",
       "         [2]]),\n",
       " tensor([[0, 1]]))"
      ]
     },
     "execution_count": 47,
     "metadata": {},
     "output_type": "execute_result"
    }
   ],
   "source": [
    "a=torch.arange(3).reshape((3,1))\n",
    "b=torch.arange(2).reshape((1,2))\n",
    "a,b"
   ]
  },
  {
   "cell_type": "raw",
   "id": "2a5c421c-e368-4a54-85ab-dd2690873b8d",
   "metadata": {},
   "source": [
    "广播机制：使两个不相同形状的张量通过复制具有相同形状，以便进行算数加减\n",
    "（例中将a矩阵复制列，b矩阵复制行，使两矩阵扩大为2*3的矩阵）"
   ]
  },
  {
   "cell_type": "code",
   "execution_count": 48,
   "id": "53fb1fa5-9745-4629-8d4f-f845f3404c84",
   "metadata": {},
   "outputs": [
    {
     "data": {
      "text/plain": [
       "tensor([[0, 1],\n",
       "        [1, 2],\n",
       "        [2, 3]])"
      ]
     },
     "execution_count": 48,
     "metadata": {},
     "output_type": "execute_result"
    }
   ],
   "source": [
    "a+b"
   ]
  }
 ],
 "metadata": {
  "kernelspec": {
   "display_name": "Python 3 (ipykernel)",
   "language": "python",
   "name": "python3"
  },
  "language_info": {
   "codemirror_mode": {
    "name": "ipython",
    "version": 3
   },
   "file_extension": ".py",
   "mimetype": "text/x-python",
   "name": "python",
   "nbconvert_exporter": "python",
   "pygments_lexer": "ipython3",
   "version": "3.12.10"
  }
 },
 "nbformat": 4,
 "nbformat_minor": 5
}
